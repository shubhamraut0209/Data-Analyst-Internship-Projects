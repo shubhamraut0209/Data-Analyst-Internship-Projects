{
  "nbformat": 4,
  "nbformat_minor": 0,
  "metadata": {
    "colab": {
      "provenance": [],
      "authorship_tag": "ABX9TyMfRlDqWD1/iY7Z433Op7qR",
      "include_colab_link": true
    },
    "kernelspec": {
      "name": "python3",
      "display_name": "Python 3"
    },
    "language_info": {
      "name": "python"
    }
  },
  "cells": [
    {
      "cell_type": "markdown",
      "metadata": {
        "id": "view-in-github",
        "colab_type": "text"
      },
      "source": [
        "<a href=\"https://colab.research.google.com/github/shubhamraut0209/Data-Analyst-Internship-Projects/blob/main/Internship_Python_Project.ipynb\" target=\"_parent\"><img src=\"https://colab.research.google.com/assets/colab-badge.svg\" alt=\"Open In Colab\"/></a>"
      ]
    },
    {
      "cell_type": "markdown",
      "source": [
        "**Project Title:** Voice-Activated AI Chatbot"
      ],
      "metadata": {
        "id": "cKd4rmDZavPg"
      }
    },
    {
      "cell_type": "markdown",
      "source": [
        "**Objective:**\n",
        "Create a voice-activated AI chatbot using Python, capable of responding to a range of commands, conducting online searches, fetching information from Wikipedia, interacting with system commands, and more. This project will demonstrate the integration of voice recognition,\n",
        "Natural Language Processing (NLP), and simple automation using Python."
      ],
      "metadata": {
        "id": "9ayOOX37a4WR"
      }
    },
    {
      "cell_type": "code",
      "source": [
        "# 1. Setup & Imports (Colab-Compatible)\n",
        "!pip install SpeechRecognition gTTS wikipedia-api"
      ],
      "metadata": {
        "colab": {
          "base_uri": "https://localhost:8080/"
        },
        "id": "CNr3LPZedqRj",
        "outputId": "a23fc573-2ab6-483c-fa3e-01c5612dfc97"
      },
      "execution_count": null,
      "outputs": [
        {
          "output_type": "stream",
          "name": "stdout",
          "text": [
            "Collecting SpeechRecognition\n",
            "  Downloading speechrecognition-3.14.3-py3-none-any.whl.metadata (30 kB)\n",
            "Collecting gTTS\n",
            "  Downloading gTTS-2.5.4-py3-none-any.whl.metadata (4.1 kB)\n",
            "Collecting wikipedia-api\n",
            "  Downloading wikipedia_api-0.8.1.tar.gz (19 kB)\n",
            "  Preparing metadata (setup.py) ... \u001b[?25l\u001b[?25hdone\n",
            "Requirement already satisfied: typing-extensions in /usr/local/lib/python3.11/dist-packages (from SpeechRecognition) (4.13.2)\n",
            "Requirement already satisfied: requests<3,>=2.27 in /usr/local/lib/python3.11/dist-packages (from gTTS) (2.32.3)\n",
            "Collecting click<8.2,>=7.1 (from gTTS)\n",
            "  Downloading click-8.1.8-py3-none-any.whl.metadata (2.3 kB)\n",
            "Requirement already satisfied: charset-normalizer<4,>=2 in /usr/local/lib/python3.11/dist-packages (from requests<3,>=2.27->gTTS) (3.4.2)\n",
            "Requirement already satisfied: idna<4,>=2.5 in /usr/local/lib/python3.11/dist-packages (from requests<3,>=2.27->gTTS) (3.10)\n",
            "Requirement already satisfied: urllib3<3,>=1.21.1 in /usr/local/lib/python3.11/dist-packages (from requests<3,>=2.27->gTTS) (2.4.0)\n",
            "Requirement already satisfied: certifi>=2017.4.17 in /usr/local/lib/python3.11/dist-packages (from requests<3,>=2.27->gTTS) (2025.4.26)\n",
            "Downloading speechrecognition-3.14.3-py3-none-any.whl (32.9 MB)\n",
            "\u001b[2K   \u001b[90m━━━━━━━━━━━━━━━━━━━━━━━━━━━━━━━━━━━━━━━━\u001b[0m \u001b[32m32.9/32.9 MB\u001b[0m \u001b[31m11.6 MB/s\u001b[0m eta \u001b[36m0:00:00\u001b[0m\n",
            "\u001b[?25hDownloading gTTS-2.5.4-py3-none-any.whl (29 kB)\n",
            "Downloading click-8.1.8-py3-none-any.whl (98 kB)\n",
            "\u001b[2K   \u001b[90m━━━━━━━━━━━━━━━━━━━━━━━━━━━━━━━━━━━━━━━━\u001b[0m \u001b[32m98.2/98.2 kB\u001b[0m \u001b[31m3.7 MB/s\u001b[0m eta \u001b[36m0:00:00\u001b[0m\n",
            "\u001b[?25hBuilding wheels for collected packages: wikipedia-api\n",
            "  Building wheel for wikipedia-api (setup.py) ... \u001b[?25l\u001b[?25hdone\n",
            "  Created wheel for wikipedia-api: filename=Wikipedia_API-0.8.1-py3-none-any.whl size=15383 sha256=49c3847dbd2dd759e212ca4a17d513b777610ac2b78037bb6fb2ec48420c452e\n",
            "  Stored in directory: /root/.cache/pip/wheels/0b/0f/39/e8214ec038ccd5aeb8c82b957289f2f3ab2251febeae5c2860\n",
            "Successfully built wikipedia-api\n",
            "Installing collected packages: SpeechRecognition, click, wikipedia-api, gTTS\n",
            "  Attempting uninstall: click\n",
            "    Found existing installation: click 8.2.0\n",
            "    Uninstalling click-8.2.0:\n",
            "      Successfully uninstalled click-8.2.0\n",
            "Successfully installed SpeechRecognition-3.14.3 click-8.1.8 gTTS-2.5.4 wikipedia-api-0.8.1\n"
          ]
        }
      ]
    },
    {
      "cell_type": "code",
      "source": [
        "# 2. Initialize TTS (Text-to-Speech) with gTTS\n",
        "from gtts import gTTS\n",
        "from IPython.display import Audio\n",
        "\n",
        "def speak(text):\n",
        "    print(f\"AI: {text}\")\n",
        "    tts = gTTS(text=text, lang='en')\n",
        "    tts.save(\"response.mp3\")\n",
        "    return Audio(\"response.mp3\", autoplay=True)"
      ],
      "metadata": {
        "id": "1WSO-3fbdqVW"
      },
      "execution_count": null,
      "outputs": []
    },
    {
      "cell_type": "code",
      "source": [
        "# 3. Simulated Voice Input (takeCommand())\n",
        "def takeCommand():\n",
        "    query = input(\"You (type your command): \")\n",
        "    return query.lower()"
      ],
      "metadata": {
        "id": "82bONEW0gDhb"
      },
      "execution_count": null,
      "outputs": []
    },
    {
      "cell_type": "code",
      "source": [
        "# 4. Greeting Function\n",
        "import datetime\n",
        "\n",
        "def wishMe():\n",
        "    hour = datetime.datetime.now().hour\n",
        "    if 0 <= hour < 12:\n",
        "        return speak(\"Good Morning!\")\n",
        "    elif 12 <= hour < 18:\n",
        "        return speak(\"Good Afternoon!\")\n",
        "    else:\n",
        "        return speak(\"Good Evening!\")"
      ],
      "metadata": {
        "id": "bslghqCdgDlX"
      },
      "execution_count": null,
      "outputs": []
    },
    {
      "cell_type": "code",
      "source": [
        "# 5. Wikipedia Search\n",
        "import wikipediaapi\n",
        "\n",
        "wiki = wikipediaapi.Wikipedia(user_agent='your-user-agent', language='en')\n",
        "\n",
        "def searchWikipedia(query):\n",
        "    topic = query.replace(\"wikipedia\", \"\").strip()\n",
        "    page = wiki.page(topic)\n",
        "    if page.exists():\n",
        "        return speak(page.summary[:500])\n",
        "    else:\n",
        "        return speak(\"Sorry, I couldn't find anything on that topic.\")"
      ],
      "metadata": {
        "id": "SaJRAT-ZgOZr"
      },
      "execution_count": null,
      "outputs": []
    },
    {
      "cell_type": "code",
      "source": [
        "# 6. Web Commands\n",
        "import webbrowser\n",
        "\n",
        "def openWebsite(site):\n",
        "    websites = {\n",
        "        \"google\": \"https://www.google.com\",\n",
        "        \"youtube\": \"https://www.youtube.com\",\n",
        "        \"github\": \"https://github.com\",\n",
        "    }\n",
        "    if site in websites:\n",
        "        webbrowser.open(websites[site])\n",
        "        return speak(f\"Opening {site}\")\n",
        "    else:\n",
        "        return speak(\"Website not recognized.\")"
      ],
      "metadata": {
        "id": "mreC_KrTgOcl"
      },
      "execution_count": null,
      "outputs": []
    },
    {
      "cell_type": "code",
      "source": [
        "# 7. Handle Commands Function\n",
        "def handleCommand(query):\n",
        "    if \"wikipedia\" in query:\n",
        "        return searchWikipedia(query)\n",
        "    elif \"open\" in query:\n",
        "        site = query.replace(\"open\", \"\").strip()\n",
        "        return openWebsite(site)\n",
        "    elif \"time\" in query:\n",
        "        strTime = datetime.datetime.now().strftime(\"%H:%M:%S\")\n",
        "        return speak(f\"The time is {strTime}\")\n",
        "    elif \"hello\" in query or \"hi\" in query:\n",
        "        return speak(\"Hello! How can I assist you?\")\n",
        "    elif \"who are you\" in query:\n",
        "        return speak(\"I am your voice assistant chatbot built using Python.\")\n",
        "    elif \"note\" in query:\n",
        "        return speak(\"Note functionality is not yet implemented.\")\n",
        "    elif \"shutdown\" in query or \"restart\" in query:\n",
        "         return speak(\"System command simulation: This feature is not available in Colab.\")\n",
        "    else:\n",
        "        return speak(\"Sorry, I didn't understand that command.\")"
      ],
      "metadata": {
        "id": "1m7NLGiHgOiX"
      },
      "execution_count": null,
      "outputs": []
    },
    {
      "cell_type": "code",
      "source": [
        "# 8. Main Driver Code\n",
        "wishMe()\n",
        "while True:\n",
        "    query = takeCommand()\n",
        "    if query in [\"exit\", \"quit\", \"bye\"]:\n",
        "        speak(\"Goodbye! Have a nice day.\")\n",
        "        break\n",
        "    handleCommand(query)"
      ],
      "metadata": {
        "colab": {
          "base_uri": "https://localhost:8080/"
        },
        "id": "2c8vzDP5gDpT",
        "outputId": "4a1f9387-3028-48a3-b02f-4418b3b81886"
      },
      "execution_count": null,
      "outputs": [
        {
          "output_type": "stream",
          "name": "stdout",
          "text": [
            "AI: Good Afternoon!\n",
            "You (type your command): what is the time\n",
            "AI: The time is 16:35:38\n",
            "You (type your command): hello\n",
            "AI: Hello! How can I assist you?\n",
            "You (type your command): who are you\n",
            "AI: I am your voice assistant chatbot built using Python.\n",
            "You (type your command): search python in wikipedia\n",
            "AI: Sorry, I couldn't find anything on that topic.\n",
            "You (type your command): open google\n",
            "AI: Opening google\n",
            "You (type your command): search python in wikipedia\n",
            "AI: Sorry, I couldn't find anything on that topic.\n",
            "You (type your command): search python in wikipedia on google\n",
            "AI: Sorry, I couldn't find anything on that topic.\n",
            "You (type your command): bye\n",
            "AI: Goodbye! Have a nice day.\n"
          ]
        }
      ]
    },
    {
      "cell_type": "code",
      "source": [],
      "metadata": {
        "id": "9NXh3-cyg-n2"
      },
      "execution_count": null,
      "outputs": []
    },
    {
      "cell_type": "code",
      "source": [],
      "metadata": {
        "id": "c75WTgHog-sU"
      },
      "execution_count": null,
      "outputs": []
    },
    {
      "cell_type": "code",
      "source": [],
      "metadata": {
        "id": "3tGJ0ZISg-xN"
      },
      "execution_count": null,
      "outputs": []
    },
    {
      "cell_type": "code",
      "source": [],
      "metadata": {
        "id": "X2sJirQlaupp"
      },
      "execution_count": null,
      "outputs": []
    }
  ]
}